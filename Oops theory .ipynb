{
 "cells": [
  {
   "cell_type": "markdown",
   "id": "161f0d63-ace1-4e0b-a7cb-114b69720029",
   "metadata": {
    "tags": []
   },
   "source": [
    "## Question 1"
   ]
  },
  {
   "cell_type": "markdown",
   "id": "9a725caa-78d1-4fd8-a197-cafe711ad692",
   "metadata": {},
   "source": [
    "#### * Python classes provide all the standard features of Object Oriented Programming: the class inheritance mechanism allows multiple base classes\n",
    "#### * Object is a component of a program that knows how to perform certain actions and how to interact with other elements of the program"
   ]
  },
  {
   "cell_type": "markdown",
   "id": "1f7ab176-17be-483a-9c08-6404e6a41d34",
   "metadata": {
    "tags": []
   },
   "source": [
    "## Question 2"
   ]
  },
  {
   "cell_type": "markdown",
   "id": "8d4b0a51-b545-41a5-b209-4c5cab7208df",
   "metadata": {},
   "source": [
    "#### The four pillars of oops are\n",
    "##### Polymorphism\n",
    "##### Inhertance\n",
    "##### Encapsulation\n",
    "##### Abstraction"
   ]
  },
  {
   "cell_type": "markdown",
   "id": "44c665a4-ac09-4865-94b2-572dc3c9837d",
   "metadata": {},
   "source": [
    "## Question 3"
   ]
  },
  {
   "cell_type": "markdown",
   "id": "77dc81c4-4c89-4185-b951-20751bb0d5d9",
   "metadata": {},
   "source": [
    "#### * __init__ is a special python method that runs whenever a new object is created. These types of functions are used to initialize the attributes of that class, E.g., if the class is Person, then the attributes will be name, age, etc."
   ]
  },
  {
   "cell_type": "markdown",
   "id": "b3617738-ef5a-4908-8107-e687cc6f7bf8",
   "metadata": {},
   "source": [
    "## Question 4"
   ]
  },
  {
   "cell_type": "markdown",
   "id": "51a7c9cb-916c-46fc-a0ea-a13d44cc4c36",
   "metadata": {},
   "source": [
    "#### * By using the “self” we can access the attributes and methods of the class in Python. It binds the attributes with the given arguments."
   ]
  },
  {
   "cell_type": "markdown",
   "id": "5691ac1b-588b-4a21-be74-e67f562004e0",
   "metadata": {},
   "source": [
    "## Question 5"
   ]
  },
  {
   "cell_type": "markdown",
   "id": "8b363370-a74e-4c99-9faa-7295fa34df16",
   "metadata": {},
   "source": [
    "#### * Inheritance is a mechanism in which one class acquires the property of another class. For example, a child inherits the traits of his/her parents. With inheritance, we can reuse the fields and methods of the existing class. Hence, inheritance facilitates Reusability and is an important concept of OOPs"
   ]
  }
 ],
 "metadata": {
  "kernelspec": {
   "display_name": "Python 3 (ipykernel)",
   "language": "python",
   "name": "python3"
  },
  "language_info": {
   "codemirror_mode": {
    "name": "ipython",
    "version": 3
   },
   "file_extension": ".py",
   "mimetype": "text/x-python",
   "name": "python",
   "nbconvert_exporter": "python",
   "pygments_lexer": "ipython3",
   "version": "3.10.8"
  }
 },
 "nbformat": 4,
 "nbformat_minor": 5
}
